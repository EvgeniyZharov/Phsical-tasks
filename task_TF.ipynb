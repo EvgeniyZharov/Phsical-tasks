{
  "cells": [
    {
      "cell_type": "markdown",
      "metadata": {
        "id": "Yuf9H7FpBhHX"
      },
      "source": [
        "# Решение 3"
      ]
    },
    {
      "cell_type": "markdown",
      "metadata": {
        "id": "W-Dj6c_3lAU6"
      },
      "source": [
        "# Импорт библиотек"
      ]
    },
    {
      "cell_type": "code",
      "execution_count": null,
      "metadata": {
        "id": "XMxoboXpY5Xi"
      },
      "outputs": [],
      "source": [
        "from tensorflow.keras.datasets import mnist\n",
        "from tensorflow.keras.models import Sequential\n",
        "from tensorflow.keras.layers import Dense \n",
        "from tensorflow.keras.optimizers import Adam, RMSprop\n",
        "from tensorflow.keras import utils \n",
        "from sklearn.model_selection import train_test_split\n",
        "from tensorflow.keras.preprocessing import image \n",
        "import numpy as np \n",
        "import pylab\n",
        "import matplotlib.pyplot as plt\n",
        "from PIL import Image\n",
        "import pandas as pd\n",
        "import random\n",
        "\n",
        "%matplotlib inline "
      ]
    },
    {
      "cell_type": "code",
      "execution_count": null,
      "metadata": {
        "id": "DeFs6fFrqdQY"
      },
      "outputs": [],
      "source": [
        "def show_graph(y1, y2, graph_point=10):\n",
        "  Vg_value = Vg_min\n",
        "  Vg_values_list = list()\n",
        "  for ii in range(graph_point):\n",
        "    Vg_values_list.append(Vg_value)\n",
        "    Vg_value += Vg_step\n",
        "  \n",
        "  plt.plot(Vg_values_list, y1,\n",
        "           label=\"Правильный график\", linewidth=3)\n",
        "  plt.plot(Vg_values_list, y2,\n",
        "           label=\"Предсказанный график\", linestyle='--', linewidth=3)\n",
        "  \n",
        "  plt.xlabel(\"Vg\")\n",
        "  plt.ylabel(\"Ids\")\n",
        "\n",
        "  plt.legend()\n",
        "  plt.show()"
      ]
    },
    {
      "cell_type": "markdown",
      "metadata": {
        "id": "0VULSa1PGiXE"
      },
      "source": [
        "# Normalization\n"
      ]
    },
    {
      "cell_type": "code",
      "execution_count": null,
      "metadata": {
        "id": "RSdPc5NoGkTC"
      },
      "outputs": [],
      "source": [
        "def func_normalization(data_list, list_degree=0, u=1, l=0, flag_lonely=False, min_value=None, max_value=None):\n",
        "  if flag_lonely:\n",
        "    value = data_list\n",
        "    return (value - min_value) / (max_value - min_value) * (u - l) + l\n",
        "  else:\n",
        "    if list_degree == 0:\n",
        "      # new_data_list = list()\n",
        "      if min_value is None:\n",
        "        min_value, max_value = min(data_list), max(data_list)\n",
        "\n",
        "      for ii in range(len(data_list)):\n",
        "        new_value = (data_list[ii] - min_value) / (max_value - min_value) * (u - l) + l\n",
        "        data_list[ii] = new_value\n",
        "\n",
        "    elif list_degree == 1:\n",
        "      total_list = list()\n",
        "      for elem in data_list:\n",
        "        total_list.extend(elem)\n",
        "      \n",
        "      min_value, max_value = min(total_list), max(total_list)\n",
        "\n",
        "      for ii in range(len(data_list)):\n",
        "        for jj in range(graph_point):\n",
        "          new_value = (data_list[ii][jj] - min_value) / (max_value - min_value) * (u - l) + l\n",
        "          data_list[ii][jj] = new_value\n",
        "\n",
        "\n",
        "    return data_list, min_value, max_value\n"
      ]
    },
    {
      "cell_type": "code",
      "execution_count": null,
      "metadata": {
        "id": "fn_NQbzeJzCk"
      },
      "outputs": [],
      "source": [
        "def func_back_normalization(data_list, min_value, max_value, list_degree=0, u=1, l=0):\n",
        "\n",
        "  if list_degree == 0:\n",
        "    for ii in range(len(data_list)):\n",
        "      new_value = (data_list[ii] - l)/(u - l)*(max_value - min_value) + min_value\n",
        "      data_list[ii] = new_value\n",
        "  elif list_degree == 1:\n",
        "    for ii in range(len(data_list)):\n",
        "      for jj in range(graph_point):\n",
        "        new_value = (data_list[ii][jj] - l)/(u - l)*(max_value - min_value) + min_value\n",
        "        data_list[ii][jj] = new_value\n",
        "  \n",
        "  return data_list"
      ]
    },
    {
      "cell_type": "markdown",
      "metadata": {
        "id": "PkFHWr5VVbBk"
      },
      "source": [
        "# Подготовка данных"
      ]
    },
    {
      "cell_type": "code",
      "execution_count": null,
      "metadata": {
        "id": "OtlmLi9wKZ0K"
      },
      "outputs": [],
      "source": [
        "# Constants\n",
        "graph_point = 10\n",
        "\n",
        "L_min = 5e-7\n",
        "L_max = 3e-6\n",
        "L_step = 5e-7\n",
        "\n",
        "W_min = 5e-6\n",
        "W_max = 3e-5\n",
        "W_step = 5e-6\n",
        "\n",
        "Uns_min = 0.04\n",
        "Uns_max = 0.06\n",
        "Uns_step = 0.06\n",
        "\n",
        "Eo = 8.85e-12\n",
        "Eox = 3.9\n",
        "\n",
        "Tgatox_min = 6e-9\n",
        "Tgatox_max = 1.2e-8\n",
        "Tgatox_step = 1e-9\n",
        "\n",
        "epsilon = 1e-10\n",
        "\n",
        "Vg_min = 1 + epsilon\n",
        "Vg_max = 5\n",
        "Vg_step = (Vg_max - Vg_min) / graph_point\n",
        "\n",
        "Vth_min = 0.7\n",
        "Vth_max = 1\n",
        "Vth_step = 0.05"
      ]
    },
    {
      "cell_type": "code",
      "execution_count": null,
      "metadata": {
        "colab": {
          "base_uri": "https://localhost:8080/"
        },
        "id": "lNe4d-ZthZb2",
        "outputId": "d0fa53c5-696a-4bb5-88c7-318698a54527"
      },
      "outputs": [
        {
          "output_type": "stream",
          "name": "stdout",
          "text": [
            "0.39999999999\n"
          ]
        }
      ],
      "source": [
        "print(Vg_step)"
      ]
    },
    {
      "cell_type": "code",
      "execution_count": null,
      "metadata": {
        "id": "VvUAsjSLIuHo"
      },
      "outputs": [],
      "source": [
        "def func_y(L, W, Uns, Tgatox, Vg, Vth):\n",
        "  \n",
        "  Ids = (W/L)*Uns*(Eo*Eox/Tgatox)*((Vg - Vth)**2/2)\n",
        "  return Ids\n",
        "\n",
        "\n",
        "y_min_value = func_y(L_max, W_min, Uns_min, Tgatox_max, Vg_min, Vth_max)\n",
        "y_max_value = func_y(L_min, W_max, Uns_max, Tgatox_min, Vg_max, Vth_min)\n",
        "\n",
        "\n",
        "def get_list(min_value, max_value, step):\n",
        "\n",
        "  element_value = min_value\n",
        "  element_list = list()\n",
        "  while element_value <= max_value:\n",
        "    element_list.append(element_value)\n",
        "    element_value += step\n",
        "  return element_list\n",
        "\n",
        "\n",
        "def create_dataset(count):\n",
        "\n",
        "  x_dataset_list = list()\n",
        "  y_dataset_list = list()\n",
        "\n",
        "  L_list = get_list(L_min, L_max, L_step)\n",
        "  W_list = get_list(W_min, W_max, W_step)\n",
        "  # Uns_list = get_list(Uns_min, Uns_max, Uns_step)\n",
        "  Tgatox_list = get_list(Tgatox_min, Tgatox_max, Tgatox_step)\n",
        "  # Vg_list = get_list(Vg_min, Vg_max, Vg_step)\n",
        "  Vth_list = get_list(Vth_min, Vth_max, Vth_step)\n",
        "\n",
        "  for ii in range(count):\n",
        "\n",
        "    element_list = list()\n",
        "    L_value = random.choice(L_list)\n",
        "    W_value = random.choice(W_list)\n",
        "    # Uns_value = random.choice(Uns_list)\n",
        "    Uns_value = Uns_max\n",
        "    Tgatox_value = random.choice(Tgatox_list)\n",
        "    # Vg_value = random.choice(Vg_list)\n",
        "    Vth_value = random.choice(Vth_list)\n",
        "\n",
        "    Vg_value = Vg_min\n",
        "    y_value_list = list()\n",
        "  \n",
        "    for jj in range(graph_point): \n",
        "      y_value_list.append(func_y(L_value, W_value, Uns_value, Tgatox_value, Vg_value, Vth_value))\n",
        "      Vg_value += Vg_step\n",
        "\n",
        "    y_dataset_list.append(np.array(y_value_list))\n",
        "\n",
        "    element_list.append(func_normalization(L_value, flag_lonely=True, min_value=L_min, max_value=L_max))\n",
        "    element_list.append(func_normalization(W_value, flag_lonely=True, min_value=W_min, max_value=W_max))\n",
        "    # element_list.append(func_normalization(Uns_value, flag_lonely=True, min_value=Uns_min, max_value=Uns_max))\n",
        "    element_list.append(Uns_value)\n",
        "    element_list.append(func_normalization(Tgatox_value, flag_lonely=True, min_value=Tgatox_min, max_value=Tgatox_max))\n",
        "    # element_list.append(func_normalization(Vg_value, flag_lonely=True, min_value=Vg_min, max_value=Vg_max))\n",
        "    element_list.append(func_normalization(Vth_value, flag_lonely=True, min_value=Vth_min, max_value=Vth_max))\n",
        "    x_dataset_list.append(element_list)\n",
        "\n",
        "  y_dataset_list, y_min, y_max = func_normalization(y_dataset_list, min_value=y_min_value, max_value=y_max_value, list_degree=1)\n",
        "  return np.array(x_dataset_list), np.array(y_dataset_list), y_min, y_max"
      ]
    },
    {
      "cell_type": "code",
      "execution_count": null,
      "metadata": {
        "id": "mH0OpDCnaNP9"
      },
      "outputs": [],
      "source": [
        "x_dataset_list, y_dataset_list, y_min, y_max = create_dataset(1000)"
      ]
    },
    {
      "cell_type": "code",
      "execution_count": null,
      "metadata": {
        "id": "X4ubNx3jWnXN"
      },
      "outputs": [],
      "source": [
        "x_train, x_test, y_train, y_test = train_test_split(x_dataset_list, y_dataset_list, test_size=0.2, shuffle=True)"
      ]
    },
    {
      "cell_type": "code",
      "execution_count": null,
      "metadata": {
        "id": "p8wnw_DMWHbi"
      },
      "outputs": [],
      "source": [
        "def getMae(history):\n",
        "  plt.plot(history.history[\"mae\"],\n",
        "           label=\"Точность модели на обучающей выборке.\")\n",
        "  plt.plot(history.history[\"val_mae\"],\n",
        "           label=\"Точность модели на проверяющей выборке.\")\n",
        "  \n",
        "  plt.xlabel(\"Эпоха обучения\")\n",
        "  plt.ylabel(\"Точность модели\")\n",
        "\n",
        "  plt.legend()\n",
        "  plt.show()\n",
        "\n",
        "def getLoss(history):\n",
        "  plt.plot(history.history[\"loss\"],\n",
        "           label=\"Ошибка на обучающей выборке.\")\n",
        "  plt.plot(history.history[\"val_loss\"],\n",
        "           label=\"Ошибка на проверочной выборке\")\n",
        "  \n",
        "  plt.xlabel(\"Эпоха обучения\")\n",
        "  plt.ylabel(\"Ошибка модели\")\n",
        "\n",
        "  plt.legend()\n",
        "  plt.show()"
      ]
    },
    {
      "cell_type": "markdown",
      "metadata": {
        "id": "tpnOjJMaWHbj"
      },
      "source": [
        "# Создание нейронной сети"
      ]
    },
    {
      "cell_type": "code",
      "execution_count": null,
      "metadata": {
        "colab": {
          "base_uri": "https://localhost:8080/"
        },
        "id": "1hJ2exojWHbj",
        "outputId": "43f9d74f-d3d7-47ed-a55a-0f6de4d48a8a"
      },
      "outputs": [
        {
          "output_type": "stream",
          "name": "stdout",
          "text": [
            "Model: \"sequential_3\"\n",
            "_________________________________________________________________\n",
            " Layer (type)                Output Shape              Param #   \n",
            "=================================================================\n",
            " dense_9 (Dense)             (None, 64)                384       \n",
            "                                                                 \n",
            " dense_10 (Dense)            (None, 32)                2080      \n",
            "                                                                 \n",
            " dense_11 (Dense)            (None, 10)                330       \n",
            "                                                                 \n",
            "=================================================================\n",
            "Total params: 2,794\n",
            "Trainable params: 2,794\n",
            "Non-trainable params: 0\n",
            "_________________________________________________________________\n",
            "None\n"
          ]
        }
      ],
      "source": [
        "model = Sequential()\n",
        "model.add(Dense(64, input_dim=5, activation=\"relu\"))\n",
        "model.add(Dense(32, activation=\"relu\"))\n",
        "model.add(Dense(graph_point, activation=\"linear\"))\n",
        "model.compile(loss=\"mae\", optimizer=Adam(0.01), metrics=['mae'])\n",
        "print(model.summary())"
      ]
    },
    {
      "cell_type": "markdown",
      "metadata": {
        "id": "ZPRR7_DqWHbk"
      },
      "source": [
        "# Обучение нейронной сети"
      ]
    },
    {
      "cell_type": "code",
      "execution_count": null,
      "metadata": {
        "colab": {
          "base_uri": "https://localhost:8080/"
        },
        "id": "57H7to_RWHbk",
        "outputId": "5ad9cc93-42f4-468e-8db9-e846727a9066"
      },
      "outputs": [
        {
          "output_type": "stream",
          "name": "stdout",
          "text": [
            "Epoch 1/40\n",
            "5/5 [==============================] - 1s 44ms/step - loss: 0.0828 - mae: 0.0828 - val_loss: 0.0505 - val_mae: 0.0505\n",
            "Epoch 2/40\n",
            "5/5 [==============================] - 0s 11ms/step - loss: 0.0423 - mae: 0.0423 - val_loss: 0.0301 - val_mae: 0.0301\n",
            "Epoch 3/40\n",
            "5/5 [==============================] - 0s 11ms/step - loss: 0.0287 - mae: 0.0287 - val_loss: 0.0228 - val_mae: 0.0228\n",
            "Epoch 4/40\n",
            "5/5 [==============================] - 0s 13ms/step - loss: 0.0212 - mae: 0.0212 - val_loss: 0.0179 - val_mae: 0.0179\n",
            "Epoch 5/40\n",
            "5/5 [==============================] - 0s 12ms/step - loss: 0.0168 - mae: 0.0168 - val_loss: 0.0154 - val_mae: 0.0154\n",
            "Epoch 6/40\n",
            "5/5 [==============================] - 0s 15ms/step - loss: 0.0142 - mae: 0.0142 - val_loss: 0.0135 - val_mae: 0.0135\n",
            "Epoch 7/40\n",
            "5/5 [==============================] - 0s 11ms/step - loss: 0.0118 - mae: 0.0118 - val_loss: 0.0127 - val_mae: 0.0127\n",
            "Epoch 8/40\n",
            "5/5 [==============================] - 0s 11ms/step - loss: 0.0107 - mae: 0.0107 - val_loss: 0.0112 - val_mae: 0.0112\n",
            "Epoch 9/40\n",
            "5/5 [==============================] - 0s 11ms/step - loss: 0.0090 - mae: 0.0090 - val_loss: 0.0099 - val_mae: 0.0099\n",
            "Epoch 10/40\n",
            "5/5 [==============================] - 0s 14ms/step - loss: 0.0078 - mae: 0.0078 - val_loss: 0.0077 - val_mae: 0.0077\n",
            "Epoch 11/40\n",
            "5/5 [==============================] - 0s 16ms/step - loss: 0.0073 - mae: 0.0073 - val_loss: 0.0059 - val_mae: 0.0059\n",
            "Epoch 12/40\n",
            "5/5 [==============================] - 0s 12ms/step - loss: 0.0058 - mae: 0.0058 - val_loss: 0.0056 - val_mae: 0.0056\n",
            "Epoch 13/40\n",
            "5/5 [==============================] - 0s 10ms/step - loss: 0.0048 - mae: 0.0048 - val_loss: 0.0042 - val_mae: 0.0042\n",
            "Epoch 14/40\n",
            "5/5 [==============================] - 0s 10ms/step - loss: 0.0041 - mae: 0.0041 - val_loss: 0.0038 - val_mae: 0.0038\n",
            "Epoch 15/40\n",
            "5/5 [==============================] - 0s 15ms/step - loss: 0.0039 - mae: 0.0039 - val_loss: 0.0037 - val_mae: 0.0037\n",
            "Epoch 16/40\n",
            "5/5 [==============================] - 0s 11ms/step - loss: 0.0037 - mae: 0.0037 - val_loss: 0.0039 - val_mae: 0.0039\n",
            "Epoch 17/40\n",
            "5/5 [==============================] - 0s 11ms/step - loss: 0.0036 - mae: 0.0036 - val_loss: 0.0037 - val_mae: 0.0037\n",
            "Epoch 18/40\n",
            "5/5 [==============================] - 0s 11ms/step - loss: 0.0035 - mae: 0.0035 - val_loss: 0.0036 - val_mae: 0.0036\n",
            "Epoch 19/40\n",
            "5/5 [==============================] - 0s 16ms/step - loss: 0.0034 - mae: 0.0034 - val_loss: 0.0042 - val_mae: 0.0042\n",
            "Epoch 20/40\n",
            "5/5 [==============================] - 0s 11ms/step - loss: 0.0038 - mae: 0.0038 - val_loss: 0.0034 - val_mae: 0.0034\n",
            "Epoch 21/40\n",
            "5/5 [==============================] - 0s 14ms/step - loss: 0.0036 - mae: 0.0036 - val_loss: 0.0053 - val_mae: 0.0053\n",
            "Epoch 22/40\n",
            "5/5 [==============================] - 0s 11ms/step - loss: 0.0043 - mae: 0.0043 - val_loss: 0.0039 - val_mae: 0.0039\n",
            "Epoch 23/40\n",
            "5/5 [==============================] - 0s 15ms/step - loss: 0.0048 - mae: 0.0048 - val_loss: 0.0040 - val_mae: 0.0040\n",
            "Epoch 24/40\n",
            "5/5 [==============================] - 0s 11ms/step - loss: 0.0039 - mae: 0.0039 - val_loss: 0.0039 - val_mae: 0.0039\n",
            "Epoch 25/40\n",
            "5/5 [==============================] - 0s 19ms/step - loss: 0.0042 - mae: 0.0042 - val_loss: 0.0042 - val_mae: 0.0042\n",
            "Epoch 26/40\n",
            "5/5 [==============================] - 0s 11ms/step - loss: 0.0039 - mae: 0.0039 - val_loss: 0.0031 - val_mae: 0.0031\n",
            "Epoch 27/40\n",
            "5/5 [==============================] - 0s 10ms/step - loss: 0.0030 - mae: 0.0030 - val_loss: 0.0033 - val_mae: 0.0033\n",
            "Epoch 28/40\n",
            "5/5 [==============================] - 0s 11ms/step - loss: 0.0028 - mae: 0.0028 - val_loss: 0.0027 - val_mae: 0.0027\n",
            "Epoch 29/40\n",
            "5/5 [==============================] - 0s 13ms/step - loss: 0.0025 - mae: 0.0025 - val_loss: 0.0025 - val_mae: 0.0025\n",
            "Epoch 30/40\n",
            "5/5 [==============================] - 0s 11ms/step - loss: 0.0025 - mae: 0.0025 - val_loss: 0.0032 - val_mae: 0.0032\n",
            "Epoch 31/40\n",
            "5/5 [==============================] - 0s 11ms/step - loss: 0.0026 - mae: 0.0026 - val_loss: 0.0028 - val_mae: 0.0028\n",
            "Epoch 32/40\n",
            "5/5 [==============================] - 0s 11ms/step - loss: 0.0028 - mae: 0.0028 - val_loss: 0.0029 - val_mae: 0.0029\n",
            "Epoch 33/40\n",
            "5/5 [==============================] - 0s 11ms/step - loss: 0.0027 - mae: 0.0027 - val_loss: 0.0024 - val_mae: 0.0024\n",
            "Epoch 34/40\n",
            "5/5 [==============================] - 0s 12ms/step - loss: 0.0023 - mae: 0.0023 - val_loss: 0.0024 - val_mae: 0.0024\n",
            "Epoch 35/40\n",
            "5/5 [==============================] - 0s 15ms/step - loss: 0.0021 - mae: 0.0021 - val_loss: 0.0025 - val_mae: 0.0025\n",
            "Epoch 36/40\n",
            "5/5 [==============================] - 0s 14ms/step - loss: 0.0020 - mae: 0.0020 - val_loss: 0.0026 - val_mae: 0.0026\n",
            "Epoch 37/40\n",
            "5/5 [==============================] - 0s 12ms/step - loss: 0.0021 - mae: 0.0021 - val_loss: 0.0023 - val_mae: 0.0023\n",
            "Epoch 38/40\n",
            "5/5 [==============================] - 0s 13ms/step - loss: 0.0020 - mae: 0.0020 - val_loss: 0.0020 - val_mae: 0.0020\n",
            "Epoch 39/40\n",
            "5/5 [==============================] - 0s 14ms/step - loss: 0.0020 - mae: 0.0020 - val_loss: 0.0019 - val_mae: 0.0019\n",
            "Epoch 40/40\n",
            "5/5 [==============================] - 0s 11ms/step - loss: 0.0019 - mae: 0.0019 - val_loss: 0.0025 - val_mae: 0.0025\n"
          ]
        }
      ],
      "source": [
        "history = model.fit(x_train, y_train, batch_size=128, validation_split=0.2, epochs=40, verbose=1)"
      ]
    },
    {
      "cell_type": "code",
      "execution_count": null,
      "metadata": {
        "colab": {
          "base_uri": "https://localhost:8080/",
          "height": 279
        },
        "id": "vwkZsUDolY2l",
        "outputId": "84f34bd4-77cc-4756-c2a2-0351b59057aa"
      },
      "outputs": [
        {
          "output_type": "display_data",
          "data": {
            "text/plain": [
              "<Figure size 432x288 with 1 Axes>"
            ],
            "image/png": "[encoded data removed]"
          },
          "metadata": {
            "needs_background": "light"
          }
        }
      ],
      "source": [
        "getLoss(history)"
      ]
    },
    {
      "cell_type": "code",
      "execution_count": null,
      "metadata": {
        "colab": {
          "base_uri": "https://localhost:8080/",
          "height": 1000
        },
        "id": "6UEQE9cSWHbl",
        "outputId": "c1d1e453-e5f3-456a-b2d6-85b294e12240"
      },
      "outputs": [
        {
          "output_type": "stream",
          "name": "stdout",
          "text": [
            "Epoch 1/40\n",
            "6/6 [==============================] - 1s 38ms/step - loss: 0.0020 - mae: 0.0020 - val_loss: 0.0020 - val_mae: 0.0020\n",
            "Epoch 2/40\n",
            "6/6 [==============================] - 0s 9ms/step - loss: 0.0016 - mae: 0.0016 - val_loss: 0.0023 - val_mae: 0.0023\n",
            "Epoch 3/40\n",
            "6/6 [==============================] - 0s 9ms/step - loss: 0.0015 - mae: 0.0015 - val_loss: 0.0019 - val_mae: 0.0019\n",
            "Epoch 4/40\n",
            "6/6 [==============================] - 0s 9ms/step - loss: 0.0014 - mae: 0.0014 - val_loss: 0.0019 - val_mae: 0.0019\n",
            "Epoch 5/40\n",
            "6/6 [==============================] - 0s 11ms/step - loss: 0.0013 - mae: 0.0013 - val_loss: 0.0018 - val_mae: 0.0018\n",
            "Epoch 6/40\n",
            "6/6 [==============================] - 0s 10ms/step - loss: 0.0013 - mae: 0.0013 - val_loss: 0.0018 - val_mae: 0.0018\n",
            "Epoch 7/40\n",
            "6/6 [==============================] - 0s 10ms/step - loss: 0.0013 - mae: 0.0013 - val_loss: 0.0017 - val_mae: 0.0017\n",
            "Epoch 8/40\n",
            "6/6 [==============================] - 0s 14ms/step - loss: 0.0013 - mae: 0.0013 - val_loss: 0.0018 - val_mae: 0.0018\n",
            "Epoch 9/40\n",
            "6/6 [==============================] - 0s 14ms/step - loss: 0.0012 - mae: 0.0012 - val_loss: 0.0017 - val_mae: 0.0017\n",
            "Epoch 10/40\n",
            "6/6 [==============================] - 0s 9ms/step - loss: 0.0012 - mae: 0.0012 - val_loss: 0.0017 - val_mae: 0.0017\n",
            "Epoch 11/40\n",
            "6/6 [==============================] - 0s 9ms/step - loss: 0.0012 - mae: 0.0012 - val_loss: 0.0018 - val_mae: 0.0018\n",
            "Epoch 12/40\n",
            "6/6 [==============================] - 0s 9ms/step - loss: 0.0012 - mae: 0.0012 - val_loss: 0.0017 - val_mae: 0.0017\n",
            "Epoch 13/40\n",
            "6/6 [==============================] - 0s 14ms/step - loss: 0.0012 - mae: 0.0012 - val_loss: 0.0017 - val_mae: 0.0017\n",
            "Epoch 14/40\n",
            "6/6 [==============================] - 0s 9ms/step - loss: 0.0012 - mae: 0.0012 - val_loss: 0.0017 - val_mae: 0.0017\n",
            "Epoch 15/40\n",
            "6/6 [==============================] - 0s 9ms/step - loss: 0.0011 - mae: 0.0011 - val_loss: 0.0017 - val_mae: 0.0017\n",
            "Epoch 16/40\n",
            "6/6 [==============================] - 0s 9ms/step - loss: 0.0011 - mae: 0.0011 - val_loss: 0.0017 - val_mae: 0.0017\n",
            "Epoch 17/40\n",
            "6/6 [==============================] - 0s 11ms/step - loss: 0.0012 - mae: 0.0012 - val_loss: 0.0017 - val_mae: 0.0017\n",
            "Epoch 18/40\n",
            "6/6 [==============================] - 0s 12ms/step - loss: 0.0012 - mae: 0.0012 - val_loss: 0.0016 - val_mae: 0.0016\n",
            "Epoch 19/40\n",
            "6/6 [==============================] - 0s 9ms/step - loss: 0.0012 - mae: 0.0012 - val_loss: 0.0017 - val_mae: 0.0017\n",
            "Epoch 20/40\n",
            "6/6 [==============================] - 0s 11ms/step - loss: 0.0011 - mae: 0.0011 - val_loss: 0.0016 - val_mae: 0.0016\n",
            "Epoch 21/40\n",
            "6/6 [==============================] - 0s 9ms/step - loss: 0.0011 - mae: 0.0011 - val_loss: 0.0016 - val_mae: 0.0016\n",
            "Epoch 22/40\n",
            "6/6 [==============================] - 0s 9ms/step - loss: 0.0011 - mae: 0.0011 - val_loss: 0.0016 - val_mae: 0.0016\n",
            "Epoch 23/40\n",
            "6/6 [==============================] - 0s 9ms/step - loss: 0.0011 - mae: 0.0011 - val_loss: 0.0016 - val_mae: 0.0016\n",
            "Epoch 24/40\n",
            "6/6 [==============================] - 0s 9ms/step - loss: 0.0012 - mae: 0.0012 - val_loss: 0.0017 - val_mae: 0.0017\n",
            "Epoch 25/40\n",
            "6/6 [==============================] - 0s 9ms/step - loss: 0.0011 - mae: 0.0011 - val_loss: 0.0016 - val_mae: 0.0016\n",
            "Epoch 26/40\n",
            "6/6 [==============================] - 0s 10ms/step - loss: 0.0011 - mae: 0.0011 - val_loss: 0.0015 - val_mae: 0.0015\n",
            "Epoch 27/40\n",
            "6/6 [==============================] - 0s 9ms/step - loss: 0.0011 - mae: 0.0011 - val_loss: 0.0016 - val_mae: 0.0016\n",
            "Epoch 28/40\n",
            "6/6 [==============================] - 0s 10ms/step - loss: 0.0010 - mae: 0.0010 - val_loss: 0.0015 - val_mae: 0.0015\n",
            "Epoch 29/40\n",
            "6/6 [==============================] - 0s 10ms/step - loss: 0.0010 - mae: 0.0010 - val_loss: 0.0015 - val_mae: 0.0015\n",
            "Epoch 30/40\n",
            "6/6 [==============================] - 0s 10ms/step - loss: 0.0010 - mae: 0.0010 - val_loss: 0.0015 - val_mae: 0.0015\n",
            "Epoch 31/40\n",
            "6/6 [==============================] - 0s 9ms/step - loss: 0.0011 - mae: 0.0011 - val_loss: 0.0015 - val_mae: 0.0015\n",
            "Epoch 32/40\n",
            "6/6 [==============================] - 0s 9ms/step - loss: 0.0010 - mae: 0.0010 - val_loss: 0.0015 - val_mae: 0.0015\n",
            "Epoch 33/40\n",
            "6/6 [==============================] - 0s 13ms/step - loss: 0.0010 - mae: 0.0010 - val_loss: 0.0016 - val_mae: 0.0016\n",
            "Epoch 34/40\n",
            "6/6 [==============================] - 0s 10ms/step - loss: 0.0011 - mae: 0.0011 - val_loss: 0.0015 - val_mae: 0.0015\n",
            "Epoch 35/40\n",
            "6/6 [==============================] - 0s 12ms/step - loss: 0.0011 - mae: 0.0011 - val_loss: 0.0015 - val_mae: 0.0015\n",
            "Epoch 36/40\n",
            "6/6 [==============================] - 0s 10ms/step - loss: 0.0010 - mae: 0.0010 - val_loss: 0.0015 - val_mae: 0.0015\n",
            "Epoch 37/40\n",
            "6/6 [==============================] - 0s 11ms/step - loss: 0.0010 - mae: 0.0010 - val_loss: 0.0015 - val_mae: 0.0015\n",
            "Epoch 38/40\n",
            "6/6 [==============================] - 0s 15ms/step - loss: 0.0010 - mae: 0.0010 - val_loss: 0.0014 - val_mae: 0.0014\n",
            "Epoch 39/40\n",
            "6/6 [==============================] - 0s 8ms/step - loss: 0.0010 - mae: 0.0010 - val_loss: 0.0014 - val_mae: 0.0014\n",
            "Epoch 40/40\n",
            "6/6 [==============================] - 0s 10ms/step - loss: 0.0010 - mae: 0.0010 - val_loss: 0.0015 - val_mae: 0.0015\n"
          ]
        },
        {
          "output_type": "display_data",
          "data": {
            "text/plain": [
              "<Figure size 432x288 with 1 Axes>"
            ],
            "image/png": "[encoded data removed]"
          },
          "metadata": {
            "needs_background": "light"
          }
        }
      ],
      "source": [
        "model.compile(loss=\"mae\", optimizer=Adam(0.001), metrics=['mae'])\n",
        "history = model.fit(x_train, y_train, batch_size=128, validation_split=0.1, epochs=40, verbose=1)\n",
        "getLoss(history)"
      ]
    },
    {
      "cell_type": "code",
      "execution_count": null,
      "metadata": {
        "id": "l_5qahbrWHbm"
      },
      "outputs": [],
      "source": [
        "# model.compile(loss=\"mae\", optimizer=Adam(0.0001), metrics=['mae'])\n",
        "# history = model.fit(x_train, y_train, batch_size=128, validation_split=0.2, epochs=40, verbose=1)"
      ]
    },
    {
      "cell_type": "code",
      "execution_count": null,
      "metadata": {
        "id": "Rj2Of4nRWHbm"
      },
      "outputs": [],
      "source": [
        "# getLoss(history)"
      ]
    },
    {
      "cell_type": "markdown",
      "metadata": {
        "id": "S3wjzY1IW1GI"
      },
      "source": [
        "# Результаты"
      ]
    },
    {
      "cell_type": "code",
      "execution_count": null,
      "metadata": {
        "colab": {
          "base_uri": "https://localhost:8080/"
        },
        "id": "IHDXKwk7W1GJ",
        "outputId": "0ecd5521-0bbb-4e54-fd89-bcfea4a0b3f2"
      },
      "outputs": [
        {
          "output_type": "stream",
          "name": "stdout",
          "text": [
            "7/7 [==============================] - 0s 2ms/step\n"
          ]
        }
      ],
      "source": [
        "y_predicts = model.predict(x_test)"
      ]
    },
    {
      "cell_type": "code",
      "execution_count": null,
      "metadata": {
        "id": "VdbLlemLLbkT"
      },
      "outputs": [],
      "source": [
        "y_real_predict = func_back_normalization(y_predicts, y_min, y_max, list_degree=1)\n",
        "y_true = func_back_normalization(y_test, y_min, y_max, list_degree=1)"
      ]
    },
    {
      "cell_type": "code",
      "execution_count": null,
      "metadata": {
        "colab": {
          "base_uri": "https://localhost:8080/"
        },
        "id": "o50Lu_m81QBE",
        "outputId": "94893b99-acae-45de-fec2-c90a64d4b70a"
      },
      "outputs": [
        {
          "output_type": "execute_result",
          "data": {
            "text/plain": [
              "0.011436545250330303"
            ]
          },
          "metadata": {},
          "execution_count": 85
        }
      ],
      "source": [
        "y_true[1].mean()"
      ]
    },
    {
      "cell_type": "code",
      "execution_count": null,
      "metadata": {
        "colab": {
          "base_uri": "https://localhost:8080/"
        },
        "id": "-5SYlSngsCVW",
        "outputId": "be08eedb-e346-4bbd-ebbc-545f0a2136b1"
      },
      "outputs": [
        {
          "output_type": "stream",
          "name": "stdout",
          "text": [
            "Error 1 = 0.0021576641235386547, regard error = 4.47%\n",
            "Error 2 = 0.0010456742227998022, regard error = 0.91%\n",
            "Error 3 = 0.00010601861411569879, regard error = 0.33%\n",
            "Error 4 = 0.0010248216947647759, regard error = 0.3%\n",
            "Error 5 = 0.0008632555067533835, regard error = 1.51%\n",
            "Error 6 = 0.0013169836739225602, regard error = 0.69%\n",
            "Error 7 = 0.011188161378444944, regard error = 2.73%\n",
            "Error 8 = 0.0015584941186125528, regard error = 2.63%\n",
            "Error 9 = 0.0011363928387493228, regard error = 2.55%\n",
            "Error 10 = 0.0008762602654099904, regard error = 1.38%\n",
            "mean error: 1.75%\n"
          ]
        }
      ],
      "source": [
        "total_error = 0\n",
        "count_element = 10\n",
        "for ii in range(count_element):\n",
        "  result = 0\n",
        "  error = 0 \n",
        "\n",
        "  for jj in range(graph_point):\n",
        "    y_mean = y_true[ii].mean()\n",
        "    one_error = abs(float(y_true[ii][jj]) - float(y_real_predict[ii][jj]))\n",
        "    error += one_error\n",
        "  result = round(error / graph_point / y_mean * 100, 2)\n",
        "  \n",
        "  print(f\"Error {ii + 1} = {error}, regard error = {result}%\")\n",
        "  total_error +=  result\n",
        "\n",
        "print(f\"mean error: {round(total_error/count_element, 2)}%\")"
      ]
    },
    {
      "cell_type": "code",
      "execution_count": null,
      "metadata": {
        "colab": {
          "base_uri": "https://localhost:8080/",
          "height": 279
        },
        "id": "a7sN4HemqPLd",
        "outputId": "5cdb9d89-b2ca-4ee6-c0ea-4b606091c017"
      },
      "outputs": [
        {
          "output_type": "display_data",
          "data": {
            "text/plain": [
              "<Figure size 432x288 with 1 Axes>"
            ],
            "image/png": "[encoded data removed]"
          },
          "metadata": {
            "needs_background": "light"
          }
        }
      ],
      "source": [
        "show_graph(y_true[1], y_real_predict[1])"
      ]
    },
    {
      "cell_type": "code",
      "execution_count": null,
      "metadata": {
        "colab": {
          "base_uri": "https://localhost:8080/",
          "height": 279
        },
        "id": "kBPlDOU3rLW7",
        "outputId": "ebc17c50-869a-44dd-cdd6-5f177a2be315"
      },
      "outputs": [
        {
          "output_type": "display_data",
          "data": {
            "text/plain": [
              "<Figure size 432x288 with 1 Axes>"
            ],
            "image/png": "[encoded data removed]"
          },
          "metadata": {
            "needs_background": "light"
          }
        }
      ],
      "source": [
        "show_graph(y_true[8], y_real_predict[8])"
      ]
    },
    {
      "cell_type": "markdown",
      "metadata": {
        "id": "avZ52S07mUbW"
      },
      "source": [
        "# (Сохранение весов)"
      ]
    },
    {
      "cell_type": "code",
      "execution_count": null,
      "metadata": {
        "id": "KeprgmmidXjo"
      },
      "outputs": [],
      "source": [
        "model.save_weights('model.h5')\n",
        "# model.load_weights('model.h5')"
      ]
    }
  ],
  "metadata": {
    "colab": {
      "provenance": []
    },
    "kernelspec": {
      "display_name": "Python 3",
      "name": "python3"
    },
    "language_info": {
      "name": "python"
    }
  },
  "nbformat": 4,
  "nbformat_minor": 0
}